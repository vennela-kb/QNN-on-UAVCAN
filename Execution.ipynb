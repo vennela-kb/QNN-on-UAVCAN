{
  "cells": [
    {
      "cell_type": "code",
      "execution_count": 1,
      "metadata": {
        "colab": {
          "base_uri": "https://localhost:8080/"
        },
        "id": "GIctl6P-n3oj",
        "outputId": "02e09c10-fbaf-4cc6-d14b-0784ba6f3768"
      },
      "outputs": [
        {
          "name": "stdout",
          "output_type": "stream",
          "text": [
            "Requirement already satisfied: qiskit in /Library/Frameworks/Python.framework/Versions/3.13/lib/python3.13/site-packages (1.2.4)\n",
            "Requirement already satisfied: qiskit-machine-learning in /Library/Frameworks/Python.framework/Versions/3.13/lib/python3.13/site-packages (0.7.2)\n",
            "Requirement already satisfied: rustworkx>=0.15.0 in /Library/Frameworks/Python.framework/Versions/3.13/lib/python3.13/site-packages (from qiskit) (0.15.1)\n",
            "Requirement already satisfied: numpy<3,>=1.17 in /Library/Frameworks/Python.framework/Versions/3.13/lib/python3.13/site-packages (from qiskit) (2.1.3)\n",
            "Requirement already satisfied: scipy>=1.5 in /Library/Frameworks/Python.framework/Versions/3.13/lib/python3.13/site-packages (from qiskit) (1.14.1)\n",
            "Requirement already satisfied: sympy>=1.3 in /Library/Frameworks/Python.framework/Versions/3.13/lib/python3.13/site-packages (from qiskit) (1.13.3)\n",
            "Requirement already satisfied: dill>=0.3 in /Library/Frameworks/Python.framework/Versions/3.13/lib/python3.13/site-packages (from qiskit) (0.3.9)\n",
            "Requirement already satisfied: python-dateutil>=2.8.0 in /Users/vennelakothakonda/Library/Python/3.13/lib/python/site-packages (from qiskit) (2.9.0.post0)\n",
            "Requirement already satisfied: stevedore>=3.0.0 in /Library/Frameworks/Python.framework/Versions/3.13/lib/python3.13/site-packages (from qiskit) (5.3.0)\n",
            "Requirement already satisfied: typing-extensions in /Library/Frameworks/Python.framework/Versions/3.13/lib/python3.13/site-packages (from qiskit) (4.12.2)\n",
            "Requirement already satisfied: symengine<0.14,>=0.11 in /Library/Frameworks/Python.framework/Versions/3.13/lib/python3.13/site-packages (from qiskit) (0.13.0)\n",
            "Requirement already satisfied: qiskit-algorithms>=0.2.0 in /Library/Frameworks/Python.framework/Versions/3.13/lib/python3.13/site-packages (from qiskit-machine-learning) (0.3.1)\n",
            "Requirement already satisfied: psutil>=5 in /Users/vennelakothakonda/Library/Python/3.13/lib/python/site-packages (from qiskit-machine-learning) (6.1.0)\n",
            "Requirement already satisfied: scikit-learn>=1.2.0 in /Library/Frameworks/Python.framework/Versions/3.13/lib/python3.13/site-packages (from qiskit-machine-learning) (1.5.2)\n",
            "Requirement already satisfied: fastdtw in /Library/Frameworks/Python.framework/Versions/3.13/lib/python3.13/site-packages (from qiskit-machine-learning) (0.3.4)\n",
            "Requirement already satisfied: setuptools>=40.1.0 in /Library/Frameworks/Python.framework/Versions/3.13/lib/python3.13/site-packages (from qiskit-machine-learning) (75.3.0)\n",
            "Requirement already satisfied: six>=1.5 in /Users/vennelakothakonda/Library/Python/3.13/lib/python/site-packages (from python-dateutil>=2.8.0->qiskit) (1.16.0)\n",
            "Requirement already satisfied: joblib>=1.2.0 in /Library/Frameworks/Python.framework/Versions/3.13/lib/python3.13/site-packages (from scikit-learn>=1.2.0->qiskit-machine-learning) (1.4.2)\n",
            "Requirement already satisfied: threadpoolctl>=3.1.0 in /Library/Frameworks/Python.framework/Versions/3.13/lib/python3.13/site-packages (from scikit-learn>=1.2.0->qiskit-machine-learning) (3.5.0)\n",
            "Requirement already satisfied: pbr>=2.0.0 in /Library/Frameworks/Python.framework/Versions/3.13/lib/python3.13/site-packages (from stevedore>=3.0.0->qiskit) (6.1.0)\n",
            "Requirement already satisfied: mpmath<1.4,>=1.1.0 in /Library/Frameworks/Python.framework/Versions/3.13/lib/python3.13/site-packages (from sympy>=1.3->qiskit) (1.3.0)\n"
          ]
        }
      ],
      "source": [
        "!pip install qiskit qiskit-machine-learning --upgrade\n"
      ]
    },
    {
      "cell_type": "code",
      "execution_count": 2,
      "metadata": {
        "colab": {
          "base_uri": "https://localhost:8080/"
        },
        "id": "P1S6qAu-q_6L",
        "outputId": "056f8512-5213-420e-ad2a-152308538e61"
      },
      "outputs": [
        {
          "name": "stdout",
          "output_type": "stream",
          "text": [
            "Collecting qiskit-aer\n",
            "  Using cached qiskit-aer-0.15.1.tar.gz (6.6 MB)\n",
            "  Installing build dependencies ... \u001b[?25ldone\n",
            "\u001b[?25h  Getting requirements to build wheel ... \u001b[?25ldone\n",
            "\u001b[?25h  Preparing metadata (pyproject.toml) ... \u001b[?25ldone\n",
            "\u001b[?25hRequirement already satisfied: qiskit>=1.1.0 in /Library/Frameworks/Python.framework/Versions/3.13/lib/python3.13/site-packages (from qiskit-aer) (1.2.4)\n",
            "Requirement already satisfied: numpy>=1.16.3 in /Library/Frameworks/Python.framework/Versions/3.13/lib/python3.13/site-packages (from qiskit-aer) (2.1.3)\n",
            "Requirement already satisfied: scipy>=1.0 in /Library/Frameworks/Python.framework/Versions/3.13/lib/python3.13/site-packages (from qiskit-aer) (1.14.1)\n",
            "Requirement already satisfied: psutil>=5 in /Users/vennelakothakonda/Library/Python/3.13/lib/python/site-packages (from qiskit-aer) (6.1.0)\n",
            "Requirement already satisfied: rustworkx>=0.15.0 in /Library/Frameworks/Python.framework/Versions/3.13/lib/python3.13/site-packages (from qiskit>=1.1.0->qiskit-aer) (0.15.1)\n",
            "Requirement already satisfied: sympy>=1.3 in /Library/Frameworks/Python.framework/Versions/3.13/lib/python3.13/site-packages (from qiskit>=1.1.0->qiskit-aer) (1.13.3)\n",
            "Requirement already satisfied: dill>=0.3 in /Library/Frameworks/Python.framework/Versions/3.13/lib/python3.13/site-packages (from qiskit>=1.1.0->qiskit-aer) (0.3.9)\n",
            "Requirement already satisfied: python-dateutil>=2.8.0 in /Users/vennelakothakonda/Library/Python/3.13/lib/python/site-packages (from qiskit>=1.1.0->qiskit-aer) (2.9.0.post0)\n",
            "Requirement already satisfied: stevedore>=3.0.0 in /Library/Frameworks/Python.framework/Versions/3.13/lib/python3.13/site-packages (from qiskit>=1.1.0->qiskit-aer) (5.3.0)\n",
            "Requirement already satisfied: typing-extensions in /Library/Frameworks/Python.framework/Versions/3.13/lib/python3.13/site-packages (from qiskit>=1.1.0->qiskit-aer) (4.12.2)\n",
            "Requirement already satisfied: symengine<0.14,>=0.11 in /Library/Frameworks/Python.framework/Versions/3.13/lib/python3.13/site-packages (from qiskit>=1.1.0->qiskit-aer) (0.13.0)\n",
            "Requirement already satisfied: six>=1.5 in /Users/vennelakothakonda/Library/Python/3.13/lib/python/site-packages (from python-dateutil>=2.8.0->qiskit>=1.1.0->qiskit-aer) (1.16.0)\n",
            "Requirement already satisfied: pbr>=2.0.0 in /Library/Frameworks/Python.framework/Versions/3.13/lib/python3.13/site-packages (from stevedore>=3.0.0->qiskit>=1.1.0->qiskit-aer) (6.1.0)\n",
            "Requirement already satisfied: mpmath<1.4,>=1.1.0 in /Library/Frameworks/Python.framework/Versions/3.13/lib/python3.13/site-packages (from sympy>=1.3->qiskit>=1.1.0->qiskit-aer) (1.3.0)\n",
            "Building wheels for collected packages: qiskit-aer\n",
            "  Building wheel for qiskit-aer (pyproject.toml) ... \u001b[?25lerror\n",
            "  \u001b[1;31merror\u001b[0m: \u001b[1msubprocess-exited-with-error\u001b[0m\n",
            "  \n",
            "  \u001b[31m×\u001b[0m \u001b[32mBuilding wheel for qiskit-aer \u001b[0m\u001b[1;32m(\u001b[0m\u001b[32mpyproject.toml\u001b[0m\u001b[1;32m)\u001b[0m did not run successfully.\n",
            "  \u001b[31m│\u001b[0m exit code: \u001b[1;36m1\u001b[0m\n",
            "  \u001b[31m╰─>\u001b[0m \u001b[31m[126 lines of output]\u001b[0m\n",
            "  \u001b[31m   \u001b[0m \n",
            "  \u001b[31m   \u001b[0m \n",
            "  \u001b[31m   \u001b[0m --------------------------------------------------------------------------------\n",
            "  \u001b[31m   \u001b[0m -- Trying 'Ninja' generator\n",
            "  \u001b[31m   \u001b[0m --------------------------------\n",
            "  \u001b[31m   \u001b[0m ---------------------------\n",
            "  \u001b[31m   \u001b[0m ----------------------\n",
            "  \u001b[31m   \u001b[0m -----------------\n",
            "  \u001b[31m   \u001b[0m ------------\n",
            "  \u001b[31m   \u001b[0m -------\n",
            "  \u001b[31m   \u001b[0m --\n",
            "  \u001b[31m   \u001b[0m Not searching for unused variables given on the command line.\n",
            "  \u001b[31m   \u001b[0m -- The C compiler identification is AppleClang 16.0.0.16000026\n",
            "  \u001b[31m   \u001b[0m -- Detecting C compiler ABI info\n",
            "  \u001b[31m   \u001b[0m -- Detecting C compiler ABI info - done\n",
            "  \u001b[31m   \u001b[0m -- Check for working C compiler: /Applications/Xcode.app/Contents/Developer/Toolchains/XcodeDefault.xctoolchain/usr/bin/cc - skipped\n",
            "  \u001b[31m   \u001b[0m -- Detecting C compile features\n",
            "  \u001b[31m   \u001b[0m -- Detecting C compile features - done\n",
            "  \u001b[31m   \u001b[0m -- The CXX compiler identification is AppleClang 16.0.0.16000026\n",
            "  \u001b[31m   \u001b[0m -- Detecting CXX compiler ABI info\n",
            "  \u001b[31m   \u001b[0m -- Detecting CXX compiler ABI info - done\n",
            "  \u001b[31m   \u001b[0m -- Check for working CXX compiler: /Applications/Xcode.app/Contents/Developer/Toolchains/XcodeDefault.xctoolchain/usr/bin/c++ - skipped\n",
            "  \u001b[31m   \u001b[0m -- Detecting CXX compile features\n",
            "  \u001b[31m   \u001b[0m -- Detecting CXX compile features - done\n",
            "  \u001b[31m   \u001b[0m -- Configuring done (0.8s)\n",
            "  \u001b[31m   \u001b[0m -- Generating done (0.0s)\n",
            "  \u001b[31m   \u001b[0m -- Build files have been written to: /private/var/folders/rp/g2fmhghj3bv2z4r4zmqf191r0000gn/T/pip-install-cbjle1p0/qiskit-aer_6739a4d4bf4042799163fe4eabf2a75e/_cmake_test_compile/build\n",
            "  \u001b[31m   \u001b[0m --\n",
            "  \u001b[31m   \u001b[0m -------\n",
            "  \u001b[31m   \u001b[0m ------------\n",
            "  \u001b[31m   \u001b[0m -----------------\n",
            "  \u001b[31m   \u001b[0m ----------------------\n",
            "  \u001b[31m   \u001b[0m ---------------------------\n",
            "  \u001b[31m   \u001b[0m --------------------------------\n",
            "  \u001b[31m   \u001b[0m -- Trying 'Ninja' generator - success\n",
            "  \u001b[31m   \u001b[0m --------------------------------------------------------------------------------\n",
            "  \u001b[31m   \u001b[0m \n",
            "  \u001b[31m   \u001b[0m Configuring Project\n",
            "  \u001b[31m   \u001b[0m   Working directory:\n",
            "  \u001b[31m   \u001b[0m     /private/var/folders/rp/g2fmhghj3bv2z4r4zmqf191r0000gn/T/pip-install-cbjle1p0/qiskit-aer_6739a4d4bf4042799163fe4eabf2a75e/_skbuild/macosx-15.0-arm64-3.13/cmake-build\n",
            "  \u001b[31m   \u001b[0m   Command:\n",
            "  \u001b[31m   \u001b[0m     /private/var/folders/rp/g2fmhghj3bv2z4r4zmqf191r0000gn/T/pip-build-env-yik5ss6y/overlay/lib/python3.13/site-packages/cmake/data/bin/cmake /private/var/folders/rp/g2fmhghj3bv2z4r4zmqf191r0000gn/T/pip-install-cbjle1p0/qiskit-aer_6739a4d4bf4042799163fe4eabf2a75e -G Ninja -DCMAKE_MAKE_PROGRAM:FILEPATH=/private/var/folders/rp/g2fmhghj3bv2z4r4zmqf191r0000gn/T/pip-build-env-yik5ss6y/overlay/lib/python3.13/site-packages/ninja/data/bin/ninja --no-warn-unused-cli -DCMAKE_INSTALL_PREFIX:PATH=/private/var/folders/rp/g2fmhghj3bv2z4r4zmqf191r0000gn/T/pip-install-cbjle1p0/qiskit-aer_6739a4d4bf4042799163fe4eabf2a75e/_skbuild/macosx-15.0-arm64-3.13/cmake-install -DPYTHON_VERSION_STRING:STRING=3.13.0 -DSKBUILD:INTERNAL=TRUE -DCMAKE_MODULE_PATH:PATH=/private/var/folders/rp/g2fmhghj3bv2z4r4zmqf191r0000gn/T/pip-build-env-yik5ss6y/overlay/lib/python3.13/site-packages/skbuild/resources/cmake -DPYTHON_EXECUTABLE:PATH=/usr/local/bin/python3 -DPYTHON_INCLUDE_DIR:PATH=/Library/Frameworks/Python.framework/Versions/3.13/include/python3.13 -DPYTHON_LIBRARY:PATH=/Library/Frameworks/Python.framework/Versions/3.13/lib/libpython3.13.dylib -DPython_EXECUTABLE:PATH=/usr/local/bin/python3 -DPython_ROOT_DIR:PATH=/Library/Frameworks/Python.framework/Versions/3.13 -DPython_FIND_REGISTRY:STRING=NEVER -DPython_INCLUDE_DIR:PATH=/Library/Frameworks/Python.framework/Versions/3.13/include/python3.13 -DPython3_EXECUTABLE:PATH=/usr/local/bin/python3 -DPython3_ROOT_DIR:PATH=/Library/Frameworks/Python.framework/Versions/3.13 -DPython3_FIND_REGISTRY:STRING=NEVER -DPython3_INCLUDE_DIR:PATH=/Library/Frameworks/Python.framework/Versions/3.13/include/python3.13 -DCMAKE_MAKE_PROGRAM:FILEPATH=/private/var/folders/rp/g2fmhghj3bv2z4r4zmqf191r0000gn/T/pip-build-env-yik5ss6y/overlay/lib/python3.13/site-packages/ninja/data/bin/ninja -DCMAKE_OSX_DEPLOYMENT_TARGET:STRING=15.0 -DCMAKE_OSX_ARCHITECTURES:STRING=arm64 -DCMAKE_BUILD_TYPE:STRING=Release\n",
            "  \u001b[31m   \u001b[0m \n",
            "  \u001b[31m   \u001b[0m Not searching for unused variables given on the command line.\n",
            "  \u001b[31m   \u001b[0m -- The CXX compiler identification is AppleClang 16.0.0.16000026\n",
            "  \u001b[31m   \u001b[0m -- The C compiler identification is AppleClang 16.0.0.16000026\n",
            "  \u001b[31m   \u001b[0m -- Detecting CXX compiler ABI info\n",
            "  \u001b[31m   \u001b[0m -- Detecting CXX compiler ABI info - done\n",
            "  \u001b[31m   \u001b[0m -- Check for working CXX compiler: /Applications/Xcode.app/Contents/Developer/Toolchains/XcodeDefault.xctoolchain/usr/bin/c++ - skipped\n",
            "  \u001b[31m   \u001b[0m -- Detecting CXX compile features\n",
            "  \u001b[31m   \u001b[0m -- Detecting CXX compile features - done\n",
            "  \u001b[31m   \u001b[0m -- Detecting C compiler ABI info\n",
            "  \u001b[31m   \u001b[0m -- Detecting C compiler ABI info - done\n",
            "  \u001b[31m   \u001b[0m -- Check for working C compiler: /Applications/Xcode.app/Contents/Developer/Toolchains/XcodeDefault.xctoolchain/usr/bin/cc - skipped\n",
            "  \u001b[31m   \u001b[0m -- Detecting C compile features\n",
            "  \u001b[31m   \u001b[0m -- Detecting C compile features - done\n",
            "  \u001b[31m   \u001b[0m -- Performing Test flag_supported\n",
            "  \u001b[31m   \u001b[0m -- Performing Test flag_supported - Success\n",
            "  \u001b[31m   \u001b[0m -- Performing Test flag_supported\n",
            "  \u001b[31m   \u001b[0m -- Performing Test flag_supported - Success\n",
            "  \u001b[31m   \u001b[0m -- Performing Test flag_supported\n",
            "  \u001b[31m   \u001b[0m -- Performing Test flag_supported - Success\n",
            "  \u001b[31m   \u001b[0m -- Performing Test flag_supported\n",
            "  \u001b[31m   \u001b[0m -- Performing Test flag_supported - Success\n",
            "  \u001b[31m   \u001b[0m -- Performing Test flag_supported\n",
            "  \u001b[31m   \u001b[0m -- Performing Test flag_supported - Success\n",
            "  \u001b[31m   \u001b[0m -- Performing Test flag_supported\n",
            "  \u001b[31m   \u001b[0m -- Performing Test flag_supported - Success\n",
            "  \u001b[31m   \u001b[0m -- Performing Test flag_supported\n",
            "  \u001b[31m   \u001b[0m -- Performing Test flag_supported - Success\n",
            "  \u001b[31m   \u001b[0m -- Performing Test flag_supported\n",
            "  \u001b[31m   \u001b[0m -- Performing Test flag_supported - Success\n",
            "  \u001b[31m   \u001b[0m -- Performing Test flag_supported\n",
            "  \u001b[31m   \u001b[0m -- Performing Test flag_supported - Success\n",
            "  \u001b[31m   \u001b[0m -- Performing Test flag_supported\n",
            "  \u001b[31m   \u001b[0m -- Performing Test flag_supported - Success\n",
            "  \u001b[31m   \u001b[0m -- Performing Test flag_supported\n",
            "  \u001b[31m   \u001b[0m -- Performing Test flag_supported - Success\n",
            "  \u001b[31m   \u001b[0m -- Conan: Automatic detection of conan settings from cmake\n",
            "  \u001b[31m   \u001b[0m <stdin>:1:10: fatal error: 'string' file not found\n",
            "  \u001b[31m   \u001b[0m     1 | #include <string>\n",
            "  \u001b[31m   \u001b[0m       |          ^~~~~~~~\n",
            "  \u001b[31m   \u001b[0m 1 error generated.\n",
            "  \u001b[31m   \u001b[0m -- Conan: Settings= -s;arch=armv8;-s;build_type=Release;-s;compiler=apple-clang;-s;compiler.version=16.0;-s;compiler.libcxx=libc++;-s;arch_build=armv8\n",
            "  \u001b[31m   \u001b[0m -- Conan: checking conan executable\n",
            "  \u001b[31m   \u001b[0m -- Conan: Found program /private/var/folders/rp/g2fmhghj3bv2z4r4zmqf191r0000gn/T/pip-build-env-yik5ss6y/overlay/bin/conan\n",
            "  \u001b[31m   \u001b[0m -- Conan: Version found \u001b[1m\u001b[32mConan version 1.65.0\u001b[0m\n",
            "  \u001b[31m   \u001b[0m \n",
            "  \u001b[31m   \u001b[0m -- Conan executing: /private/var/folders/rp/g2fmhghj3bv2z4r4zmqf191r0000gn/T/pip-build-env-yik5ss6y/overlay/bin/conan install . -s arch=armv8 -s build_type=Release -s compiler=apple-clang -s compiler.version=16.0 -s compiler.libcxx=libc++ -s arch_build=armv8 -e=CONAN_CMAKE_PROGRAM=/private/var/folders/rp/g2fmhghj3bv2z4r4zmqf191r0000gn/T/pip-build-env-yik5ss6y/overlay/lib/python3.13/site-packages/cmake/data/bin/cmake -g=cmake --build=missing\n",
            "  \u001b[31m   \u001b[0m \n",
            "  \u001b[31m   \u001b[0m \u001b[1m\u001b[33mWARN: **************************************************\u001b[0m\n",
            "  \u001b[31m   \u001b[0m \u001b[1m\u001b[33mWARN: *** Conan 1 is legacy and on a deprecation path **\u001b[0m\n",
            "  \u001b[31m   \u001b[0m \u001b[1m\u001b[33mWARN: *********** Please upgrade to Conan 2 ************\u001b[0m\n",
            "  \u001b[31m   \u001b[0m \u001b[1m\u001b[33mWARN: **************************************************\u001b[0m\n",
            "  \u001b[31m   \u001b[0m \u001b[1m\u001b[31mERROR: Invalid setting '16.0' is not a valid 'settings.compiler.version' value.\n",
            "  \u001b[31m   \u001b[0m Possible values are ['5.0', '5.1', '6.0', '6.1', '7.0', '7.3', '8.0', '8.1', '9.0', '9.1', '10.0', '11.0', '12.0', '13', '13.0', '13.1', '14', '14.0', '15', '15.0']\n",
            "  \u001b[31m   \u001b[0m Read \"http://docs.conan.io/en/latest/faq/troubleshooting.html#error-invalid-setting\"\u001b[0m\n",
            "  \u001b[31m   \u001b[0m \u001b[31mCMake Error at cmake/conan.cmake:404 (message):\n",
            "  \u001b[31m   \u001b[0m   Conan install failed='1'\n",
            "  \u001b[31m   \u001b[0m Call Stack (most recent call first):\n",
            "  \u001b[31m   \u001b[0m   cmake/conan.cmake:499 (conan_cmake_install)\n",
            "  \u001b[31m   \u001b[0m   cmake/conan_utils.cmake:53 (conan_cmake_run)\n",
            "  \u001b[31m   \u001b[0m   cmake/dependency_utils.cmake:20 (setup_conan)\n",
            "  \u001b[31m   \u001b[0m   CMakeLists.txt:179 (setup_dependencies)\n",
            "  \u001b[31m   \u001b[0m \n",
            "  \u001b[31m   \u001b[0m \u001b[0m\n",
            "  \u001b[31m   \u001b[0m -- Configuring incomplete, errors occurred!\n",
            "  \u001b[31m   \u001b[0m Traceback (most recent call last):\n",
            "  \u001b[31m   \u001b[0m   File \"/private/var/folders/rp/g2fmhghj3bv2z4r4zmqf191r0000gn/T/pip-build-env-yik5ss6y/overlay/lib/python3.13/site-packages/skbuild/setuptools_wrap.py\", line 660, in setup\n",
            "  \u001b[31m   \u001b[0m     env = cmkr.configure(\n",
            "  \u001b[31m   \u001b[0m         cmake_args,\n",
            "  \u001b[31m   \u001b[0m     ...<3 lines>...\n",
            "  \u001b[31m   \u001b[0m         languages=cmake_languages,\n",
            "  \u001b[31m   \u001b[0m     )\n",
            "  \u001b[31m   \u001b[0m   File \"/private/var/folders/rp/g2fmhghj3bv2z4r4zmqf191r0000gn/T/pip-build-env-yik5ss6y/overlay/lib/python3.13/site-packages/skbuild/cmaker.py\", line 354, in configure\n",
            "  \u001b[31m   \u001b[0m     raise SKBuildError(msg)\n",
            "  \u001b[31m   \u001b[0m \n",
            "  \u001b[31m   \u001b[0m An error occurred while configuring with CMake.\n",
            "  \u001b[31m   \u001b[0m   Command:\n",
            "  \u001b[31m   \u001b[0m     /private/var/folders/rp/g2fmhghj3bv2z4r4zmqf191r0000gn/T/pip-build-env-yik5ss6y/overlay/lib/python3.13/site-packages/cmake/data/bin/cmake /private/var/folders/rp/g2fmhghj3bv2z4r4zmqf191r0000gn/T/pip-install-cbjle1p0/qiskit-aer_6739a4d4bf4042799163fe4eabf2a75e -G Ninja -DCMAKE_MAKE_PROGRAM:FILEPATH=/private/var/folders/rp/g2fmhghj3bv2z4r4zmqf191r0000gn/T/pip-build-env-yik5ss6y/overlay/lib/python3.13/site-packages/ninja/data/bin/ninja --no-warn-unused-cli -DCMAKE_INSTALL_PREFIX:PATH=/private/var/folders/rp/g2fmhghj3bv2z4r4zmqf191r0000gn/T/pip-install-cbjle1p0/qiskit-aer_6739a4d4bf4042799163fe4eabf2a75e/_skbuild/macosx-15.0-arm64-3.13/cmake-install -DPYTHON_VERSION_STRING:STRING=3.13.0 -DSKBUILD:INTERNAL=TRUE -DCMAKE_MODULE_PATH:PATH=/private/var/folders/rp/g2fmhghj3bv2z4r4zmqf191r0000gn/T/pip-build-env-yik5ss6y/overlay/lib/python3.13/site-packages/skbuild/resources/cmake -DPYTHON_EXECUTABLE:PATH=/usr/local/bin/python3 -DPYTHON_INCLUDE_DIR:PATH=/Library/Frameworks/Python.framework/Versions/3.13/include/python3.13 -DPYTHON_LIBRARY:PATH=/Library/Frameworks/Python.framework/Versions/3.13/lib/libpython3.13.dylib -DPython_EXECUTABLE:PATH=/usr/local/bin/python3 -DPython_ROOT_DIR:PATH=/Library/Frameworks/Python.framework/Versions/3.13 -DPython_FIND_REGISTRY:STRING=NEVER -DPython_INCLUDE_DIR:PATH=/Library/Frameworks/Python.framework/Versions/3.13/include/python3.13 -DPython3_EXECUTABLE:PATH=/usr/local/bin/python3 -DPython3_ROOT_DIR:PATH=/Library/Frameworks/Python.framework/Versions/3.13 -DPython3_FIND_REGISTRY:STRING=NEVER -DPython3_INCLUDE_DIR:PATH=/Library/Frameworks/Python.framework/Versions/3.13/include/python3.13 -DCMAKE_MAKE_PROGRAM:FILEPATH=/private/var/folders/rp/g2fmhghj3bv2z4r4zmqf191r0000gn/T/pip-build-env-yik5ss6y/overlay/lib/python3.13/site-packages/ninja/data/bin/ninja -DCMAKE_OSX_DEPLOYMENT_TARGET:STRING=15.0 -DCMAKE_OSX_ARCHITECTURES:STRING=arm64 -DCMAKE_BUILD_TYPE:STRING=Release\n",
            "  \u001b[31m   \u001b[0m   Source directory:\n",
            "  \u001b[31m   \u001b[0m     /private/var/folders/rp/g2fmhghj3bv2z4r4zmqf191r0000gn/T/pip-install-cbjle1p0/qiskit-aer_6739a4d4bf4042799163fe4eabf2a75e\n",
            "  \u001b[31m   \u001b[0m   Working directory:\n",
            "  \u001b[31m   \u001b[0m     /private/var/folders/rp/g2fmhghj3bv2z4r4zmqf191r0000gn/T/pip-install-cbjle1p0/qiskit-aer_6739a4d4bf4042799163fe4eabf2a75e/_skbuild/macosx-15.0-arm64-3.13/cmake-build\n",
            "  \u001b[31m   \u001b[0m Please see CMake's output for more information.\n",
            "  \u001b[31m   \u001b[0m \n",
            "  \u001b[31m   \u001b[0m \u001b[31m[end of output]\u001b[0m\n",
            "  \n",
            "  \u001b[1;35mnote\u001b[0m: This error originates from a subprocess, and is likely not a problem with pip.\n",
            "\u001b[?25h\u001b[31m  ERROR: Failed building wheel for qiskit-aer\u001b[0m\u001b[31m\n",
            "\u001b[0mFailed to build qiskit-aer\n",
            "\u001b[31mERROR: ERROR: Failed to build installable wheels for some pyproject.toml based projects (qiskit-aer)\u001b[0m\u001b[31m\n",
            "\u001b[0mNote: you may need to restart the kernel to use updated packages.\n"
          ]
        }
      ],
      "source": [
        "pip install qiskit-aer"
      ]
    },
    {
      "cell_type": "code",
      "execution_count": 3,
      "metadata": {
        "colab": {
          "base_uri": "https://localhost:8080/"
        },
        "id": "o6B2BTCEljPW",
        "outputId": "be28c13f-999e-4f92-bf5e-375c83ce8da0"
      },
      "outputs": [
        {
          "name": "stdout",
          "output_type": "stream",
          "text": [
            "Requirement already satisfied: qiskit in /Library/Frameworks/Python.framework/Versions/3.13/lib/python3.13/site-packages (1.2.4)\n",
            "Requirement already satisfied: qiskit-machine-learning in /Library/Frameworks/Python.framework/Versions/3.13/lib/python3.13/site-packages (0.7.2)\n",
            "Requirement already satisfied: rustworkx>=0.15.0 in /Library/Frameworks/Python.framework/Versions/3.13/lib/python3.13/site-packages (from qiskit) (0.15.1)\n",
            "Requirement already satisfied: numpy<3,>=1.17 in /Library/Frameworks/Python.framework/Versions/3.13/lib/python3.13/site-packages (from qiskit) (2.1.3)\n",
            "Requirement already satisfied: scipy>=1.5 in /Library/Frameworks/Python.framework/Versions/3.13/lib/python3.13/site-packages (from qiskit) (1.14.1)\n",
            "Requirement already satisfied: sympy>=1.3 in /Library/Frameworks/Python.framework/Versions/3.13/lib/python3.13/site-packages (from qiskit) (1.13.3)\n",
            "Requirement already satisfied: dill>=0.3 in /Library/Frameworks/Python.framework/Versions/3.13/lib/python3.13/site-packages (from qiskit) (0.3.9)\n",
            "Requirement already satisfied: python-dateutil>=2.8.0 in /Users/vennelakothakonda/Library/Python/3.13/lib/python/site-packages (from qiskit) (2.9.0.post0)\n",
            "Requirement already satisfied: stevedore>=3.0.0 in /Library/Frameworks/Python.framework/Versions/3.13/lib/python3.13/site-packages (from qiskit) (5.3.0)\n",
            "Requirement already satisfied: typing-extensions in /Library/Frameworks/Python.framework/Versions/3.13/lib/python3.13/site-packages (from qiskit) (4.12.2)\n",
            "Requirement already satisfied: symengine<0.14,>=0.11 in /Library/Frameworks/Python.framework/Versions/3.13/lib/python3.13/site-packages (from qiskit) (0.13.0)\n",
            "Requirement already satisfied: qiskit-algorithms>=0.2.0 in /Library/Frameworks/Python.framework/Versions/3.13/lib/python3.13/site-packages (from qiskit-machine-learning) (0.3.1)\n",
            "Requirement already satisfied: psutil>=5 in /Users/vennelakothakonda/Library/Python/3.13/lib/python/site-packages (from qiskit-machine-learning) (6.1.0)\n",
            "Requirement already satisfied: scikit-learn>=1.2.0 in /Library/Frameworks/Python.framework/Versions/3.13/lib/python3.13/site-packages (from qiskit-machine-learning) (1.5.2)\n",
            "Requirement already satisfied: fastdtw in /Library/Frameworks/Python.framework/Versions/3.13/lib/python3.13/site-packages (from qiskit-machine-learning) (0.3.4)\n",
            "Requirement already satisfied: setuptools>=40.1.0 in /Library/Frameworks/Python.framework/Versions/3.13/lib/python3.13/site-packages (from qiskit-machine-learning) (75.3.0)\n",
            "Requirement already satisfied: six>=1.5 in /Users/vennelakothakonda/Library/Python/3.13/lib/python/site-packages (from python-dateutil>=2.8.0->qiskit) (1.16.0)\n",
            "Requirement already satisfied: joblib>=1.2.0 in /Library/Frameworks/Python.framework/Versions/3.13/lib/python3.13/site-packages (from scikit-learn>=1.2.0->qiskit-machine-learning) (1.4.2)\n",
            "Requirement already satisfied: threadpoolctl>=3.1.0 in /Library/Frameworks/Python.framework/Versions/3.13/lib/python3.13/site-packages (from scikit-learn>=1.2.0->qiskit-machine-learning) (3.5.0)\n",
            "Requirement already satisfied: pbr>=2.0.0 in /Library/Frameworks/Python.framework/Versions/3.13/lib/python3.13/site-packages (from stevedore>=3.0.0->qiskit) (6.1.0)\n",
            "Requirement already satisfied: mpmath<1.4,>=1.1.0 in /Library/Frameworks/Python.framework/Versions/3.13/lib/python3.13/site-packages (from sympy>=1.3->qiskit) (1.3.0)\n"
          ]
        }
      ],
      "source": [
        "# Ensure the required packages are installed\n",
        "!pip install qiskit qiskit-machine-learning\n",
        "\n"
      ]
    },
    {
      "cell_type": "code",
      "execution_count": 8,
      "metadata": {
        "colab": {
          "base_uri": "https://localhost:8080/"
        },
        "id": "W4eOsUIKnSg1",
        "outputId": "0a45db4f-ea9d-49a7-cf11-3168ee6ab5d7"
      },
      "outputs": [
        {
          "name": "stdout",
          "output_type": "stream",
          "text": [
            "Requirement already satisfied: qiskit in /Library/Frameworks/Python.framework/Versions/3.13/lib/python3.13/site-packages (1.2.4)\n",
            "Requirement already satisfied: rustworkx>=0.15.0 in /Library/Frameworks/Python.framework/Versions/3.13/lib/python3.13/site-packages (from qiskit) (0.15.1)\n",
            "Requirement already satisfied: numpy<3,>=1.17 in /Library/Frameworks/Python.framework/Versions/3.13/lib/python3.13/site-packages (from qiskit) (2.1.3)\n",
            "Requirement already satisfied: scipy>=1.5 in /Library/Frameworks/Python.framework/Versions/3.13/lib/python3.13/site-packages (from qiskit) (1.14.1)\n",
            "Requirement already satisfied: sympy>=1.3 in /Library/Frameworks/Python.framework/Versions/3.13/lib/python3.13/site-packages (from qiskit) (1.13.3)\n",
            "Requirement already satisfied: dill>=0.3 in /Library/Frameworks/Python.framework/Versions/3.13/lib/python3.13/site-packages (from qiskit) (0.3.9)\n",
            "Requirement already satisfied: python-dateutil>=2.8.0 in /Users/vennelakothakonda/Library/Python/3.13/lib/python/site-packages (from qiskit) (2.9.0.post0)\n",
            "Requirement already satisfied: stevedore>=3.0.0 in /Library/Frameworks/Python.framework/Versions/3.13/lib/python3.13/site-packages (from qiskit) (5.3.0)\n",
            "Requirement already satisfied: typing-extensions in /Library/Frameworks/Python.framework/Versions/3.13/lib/python3.13/site-packages (from qiskit) (4.12.2)\n",
            "Requirement already satisfied: symengine<0.14,>=0.11 in /Library/Frameworks/Python.framework/Versions/3.13/lib/python3.13/site-packages (from qiskit) (0.13.0)\n",
            "Requirement already satisfied: six>=1.5 in /Users/vennelakothakonda/Library/Python/3.13/lib/python/site-packages (from python-dateutil>=2.8.0->qiskit) (1.16.0)\n",
            "Requirement already satisfied: pbr>=2.0.0 in /Library/Frameworks/Python.framework/Versions/3.13/lib/python3.13/site-packages (from stevedore>=3.0.0->qiskit) (6.1.0)\n",
            "Requirement already satisfied: mpmath<1.4,>=1.1.0 in /Library/Frameworks/Python.framework/Versions/3.13/lib/python3.13/site-packages (from sympy>=1.3->qiskit) (1.3.0)\n"
          ]
        }
      ],
      "source": [
        "# Ensure the required packages are installed\n",
        "!pip install qiskit --upgrade\n",
        "\n",
        "\n"
      ]
    },
    {
      "cell_type": "code",
      "execution_count": 5,
      "metadata": {
        "colab": {
          "base_uri": "https://localhost:8080/"
        },
        "id": "gQbO1peKqPKe",
        "outputId": "0cec6464-0a41-48fc-a585-f3c5f2b7185e"
      },
      "outputs": [
        {
          "name": "stdout",
          "output_type": "stream",
          "text": [
            "Requirement already satisfied: qiskit in /Library/Frameworks/Python.framework/Versions/3.13/lib/python3.13/site-packages (1.2.4)\n",
            "Requirement already satisfied: rustworkx>=0.15.0 in /Library/Frameworks/Python.framework/Versions/3.13/lib/python3.13/site-packages (from qiskit) (0.15.1)\n",
            "Requirement already satisfied: numpy<3,>=1.17 in /Library/Frameworks/Python.framework/Versions/3.13/lib/python3.13/site-packages (from qiskit) (2.1.3)\n",
            "Requirement already satisfied: scipy>=1.5 in /Library/Frameworks/Python.framework/Versions/3.13/lib/python3.13/site-packages (from qiskit) (1.14.1)\n",
            "Requirement already satisfied: sympy>=1.3 in /Library/Frameworks/Python.framework/Versions/3.13/lib/python3.13/site-packages (from qiskit) (1.13.3)\n",
            "Requirement already satisfied: dill>=0.3 in /Library/Frameworks/Python.framework/Versions/3.13/lib/python3.13/site-packages (from qiskit) (0.3.9)\n",
            "Requirement already satisfied: python-dateutil>=2.8.0 in /Users/vennelakothakonda/Library/Python/3.13/lib/python/site-packages (from qiskit) (2.9.0.post0)\n",
            "Requirement already satisfied: stevedore>=3.0.0 in /Library/Frameworks/Python.framework/Versions/3.13/lib/python3.13/site-packages (from qiskit) (5.3.0)\n",
            "Requirement already satisfied: typing-extensions in /Library/Frameworks/Python.framework/Versions/3.13/lib/python3.13/site-packages (from qiskit) (4.12.2)\n",
            "Requirement already satisfied: symengine<0.14,>=0.11 in /Library/Frameworks/Python.framework/Versions/3.13/lib/python3.13/site-packages (from qiskit) (0.13.0)\n",
            "Requirement already satisfied: six>=1.5 in /Users/vennelakothakonda/Library/Python/3.13/lib/python/site-packages (from python-dateutil>=2.8.0->qiskit) (1.16.0)\n",
            "Requirement already satisfied: pbr>=2.0.0 in /Library/Frameworks/Python.framework/Versions/3.13/lib/python3.13/site-packages (from stevedore>=3.0.0->qiskit) (6.1.0)\n",
            "Requirement already satisfied: mpmath<1.4,>=1.1.0 in /Library/Frameworks/Python.framework/Versions/3.13/lib/python3.13/site-packages (from sympy>=1.3->qiskit) (1.3.0)\n"
          ]
        }
      ],
      "source": [
        "!pip install qiskit --upgrade\n"
      ]
    },
    {
      "cell_type": "code",
      "execution_count": 6,
      "metadata": {
        "colab": {
          "base_uri": "https://localhost:8080/"
        },
        "id": "mnYrxAnLuyv1",
        "outputId": "9350339e-6797-4b1d-b13a-f208e4c8d0fd"
      },
      "outputs": [
        {
          "name": "stdout",
          "output_type": "stream",
          "text": [
            "Requirement already satisfied: qiskit in /Library/Frameworks/Python.framework/Versions/3.13/lib/python3.13/site-packages (1.2.4)\n",
            "Requirement already satisfied: rustworkx>=0.15.0 in /Library/Frameworks/Python.framework/Versions/3.13/lib/python3.13/site-packages (from qiskit) (0.15.1)\n",
            "Requirement already satisfied: numpy<3,>=1.17 in /Library/Frameworks/Python.framework/Versions/3.13/lib/python3.13/site-packages (from qiskit) (2.1.3)\n",
            "Requirement already satisfied: scipy>=1.5 in /Library/Frameworks/Python.framework/Versions/3.13/lib/python3.13/site-packages (from qiskit) (1.14.1)\n",
            "Requirement already satisfied: sympy>=1.3 in /Library/Frameworks/Python.framework/Versions/3.13/lib/python3.13/site-packages (from qiskit) (1.13.3)\n",
            "Requirement already satisfied: dill>=0.3 in /Library/Frameworks/Python.framework/Versions/3.13/lib/python3.13/site-packages (from qiskit) (0.3.9)\n",
            "Requirement already satisfied: python-dateutil>=2.8.0 in /Users/vennelakothakonda/Library/Python/3.13/lib/python/site-packages (from qiskit) (2.9.0.post0)\n",
            "Requirement already satisfied: stevedore>=3.0.0 in /Library/Frameworks/Python.framework/Versions/3.13/lib/python3.13/site-packages (from qiskit) (5.3.0)\n",
            "Requirement already satisfied: typing-extensions in /Library/Frameworks/Python.framework/Versions/3.13/lib/python3.13/site-packages (from qiskit) (4.12.2)\n",
            "Requirement already satisfied: symengine<0.14,>=0.11 in /Library/Frameworks/Python.framework/Versions/3.13/lib/python3.13/site-packages (from qiskit) (0.13.0)\n",
            "Requirement already satisfied: six>=1.5 in /Users/vennelakothakonda/Library/Python/3.13/lib/python/site-packages (from python-dateutil>=2.8.0->qiskit) (1.16.0)\n",
            "Requirement already satisfied: pbr>=2.0.0 in /Library/Frameworks/Python.framework/Versions/3.13/lib/python3.13/site-packages (from stevedore>=3.0.0->qiskit) (6.1.0)\n",
            "Requirement already satisfied: mpmath<1.4,>=1.1.0 in /Library/Frameworks/Python.framework/Versions/3.13/lib/python3.13/site-packages (from sympy>=1.3->qiskit) (1.3.0)\n",
            "Requirement already satisfied: qiskit-nature in /Library/Frameworks/Python.framework/Versions/3.13/lib/python3.13/site-packages (0.7.2)\n",
            "Requirement already satisfied: qiskit>=0.44 in /Library/Frameworks/Python.framework/Versions/3.13/lib/python3.13/site-packages (from qiskit-nature) (1.2.4)\n",
            "Requirement already satisfied: qiskit-algorithms>=0.2.1 in /Library/Frameworks/Python.framework/Versions/3.13/lib/python3.13/site-packages (from qiskit-nature) (0.3.1)\n",
            "Requirement already satisfied: scipy>=1.4 in /Library/Frameworks/Python.framework/Versions/3.13/lib/python3.13/site-packages (from qiskit-nature) (1.14.1)\n",
            "Requirement already satisfied: numpy>=1.17 in /Library/Frameworks/Python.framework/Versions/3.13/lib/python3.13/site-packages (from qiskit-nature) (2.1.3)\n",
            "Requirement already satisfied: psutil>=5 in /Users/vennelakothakonda/Library/Python/3.13/lib/python/site-packages (from qiskit-nature) (6.1.0)\n",
            "Requirement already satisfied: setuptools>=40.1.0 in /Library/Frameworks/Python.framework/Versions/3.13/lib/python3.13/site-packages (from qiskit-nature) (75.3.0)\n",
            "Requirement already satisfied: typing-extensions in /Library/Frameworks/Python.framework/Versions/3.13/lib/python3.13/site-packages (from qiskit-nature) (4.12.2)\n",
            "Requirement already satisfied: h5py in /Library/Frameworks/Python.framework/Versions/3.13/lib/python3.13/site-packages (from qiskit-nature) (3.12.1)\n",
            "Requirement already satisfied: rustworkx>=0.12 in /Library/Frameworks/Python.framework/Versions/3.13/lib/python3.13/site-packages (from qiskit-nature) (0.15.1)\n",
            "Requirement already satisfied: sympy>=1.3 in /Library/Frameworks/Python.framework/Versions/3.13/lib/python3.13/site-packages (from qiskit>=0.44->qiskit-nature) (1.13.3)\n",
            "Requirement already satisfied: dill>=0.3 in /Library/Frameworks/Python.framework/Versions/3.13/lib/python3.13/site-packages (from qiskit>=0.44->qiskit-nature) (0.3.9)\n",
            "Requirement already satisfied: python-dateutil>=2.8.0 in /Users/vennelakothakonda/Library/Python/3.13/lib/python/site-packages (from qiskit>=0.44->qiskit-nature) (2.9.0.post0)\n",
            "Requirement already satisfied: stevedore>=3.0.0 in /Library/Frameworks/Python.framework/Versions/3.13/lib/python3.13/site-packages (from qiskit>=0.44->qiskit-nature) (5.3.0)\n",
            "Requirement already satisfied: symengine<0.14,>=0.11 in /Library/Frameworks/Python.framework/Versions/3.13/lib/python3.13/site-packages (from qiskit>=0.44->qiskit-nature) (0.13.0)\n",
            "Requirement already satisfied: six>=1.5 in /Users/vennelakothakonda/Library/Python/3.13/lib/python/site-packages (from python-dateutil>=2.8.0->qiskit>=0.44->qiskit-nature) (1.16.0)\n",
            "Requirement already satisfied: pbr>=2.0.0 in /Library/Frameworks/Python.framework/Versions/3.13/lib/python3.13/site-packages (from stevedore>=3.0.0->qiskit>=0.44->qiskit-nature) (6.1.0)\n",
            "Requirement already satisfied: mpmath<1.4,>=1.1.0 in /Library/Frameworks/Python.framework/Versions/3.13/lib/python3.13/site-packages (from sympy>=1.3->qiskit>=0.44->qiskit-nature) (1.3.0)\n",
            "Requirement already satisfied: qiskit[visualization] in /Library/Frameworks/Python.framework/Versions/3.13/lib/python3.13/site-packages (1.2.4)\n",
            "Requirement already satisfied: rustworkx>=0.15.0 in /Library/Frameworks/Python.framework/Versions/3.13/lib/python3.13/site-packages (from qiskit[visualization]) (0.15.1)\n",
            "Requirement already satisfied: numpy<3,>=1.17 in /Library/Frameworks/Python.framework/Versions/3.13/lib/python3.13/site-packages (from qiskit[visualization]) (2.1.3)\n",
            "Requirement already satisfied: scipy>=1.5 in /Library/Frameworks/Python.framework/Versions/3.13/lib/python3.13/site-packages (from qiskit[visualization]) (1.14.1)\n",
            "Requirement already satisfied: sympy>=1.3 in /Library/Frameworks/Python.framework/Versions/3.13/lib/python3.13/site-packages (from qiskit[visualization]) (1.13.3)\n",
            "Requirement already satisfied: dill>=0.3 in /Library/Frameworks/Python.framework/Versions/3.13/lib/python3.13/site-packages (from qiskit[visualization]) (0.3.9)\n",
            "Requirement already satisfied: python-dateutil>=2.8.0 in /Users/vennelakothakonda/Library/Python/3.13/lib/python/site-packages (from qiskit[visualization]) (2.9.0.post0)\n",
            "Requirement already satisfied: stevedore>=3.0.0 in /Library/Frameworks/Python.framework/Versions/3.13/lib/python3.13/site-packages (from qiskit[visualization]) (5.3.0)\n",
            "Requirement already satisfied: typing-extensions in /Library/Frameworks/Python.framework/Versions/3.13/lib/python3.13/site-packages (from qiskit[visualization]) (4.12.2)\n",
            "Requirement already satisfied: symengine<0.14,>=0.11 in /Library/Frameworks/Python.framework/Versions/3.13/lib/python3.13/site-packages (from qiskit[visualization]) (0.13.0)\n",
            "Requirement already satisfied: matplotlib>=3.3 in /Library/Frameworks/Python.framework/Versions/3.13/lib/python3.13/site-packages (from qiskit[visualization]) (3.9.2)\n",
            "Requirement already satisfied: pydot in /Library/Frameworks/Python.framework/Versions/3.13/lib/python3.13/site-packages (from qiskit[visualization]) (3.0.2)\n",
            "Requirement already satisfied: Pillow>=4.2.1 in /Library/Frameworks/Python.framework/Versions/3.13/lib/python3.13/site-packages (from qiskit[visualization]) (11.0.0)\n",
            "Requirement already satisfied: pylatexenc>=1.4 in /Library/Frameworks/Python.framework/Versions/3.13/lib/python3.13/site-packages (from qiskit[visualization]) (2.10)\n",
            "Requirement already satisfied: seaborn>=0.9.0 in /Library/Frameworks/Python.framework/Versions/3.13/lib/python3.13/site-packages (from qiskit[visualization]) (0.13.2)\n",
            "Requirement already satisfied: contourpy>=1.0.1 in /Library/Frameworks/Python.framework/Versions/3.13/lib/python3.13/site-packages (from matplotlib>=3.3->qiskit[visualization]) (1.3.0)\n",
            "Requirement already satisfied: cycler>=0.10 in /Library/Frameworks/Python.framework/Versions/3.13/lib/python3.13/site-packages (from matplotlib>=3.3->qiskit[visualization]) (0.12.1)\n",
            "Requirement already satisfied: fonttools>=4.22.0 in /Library/Frameworks/Python.framework/Versions/3.13/lib/python3.13/site-packages (from matplotlib>=3.3->qiskit[visualization]) (4.54.1)\n",
            "Requirement already satisfied: kiwisolver>=1.3.1 in /Library/Frameworks/Python.framework/Versions/3.13/lib/python3.13/site-packages (from matplotlib>=3.3->qiskit[visualization]) (1.4.7)\n",
            "Requirement already satisfied: packaging>=20.0 in /Users/vennelakothakonda/Library/Python/3.13/lib/python/site-packages (from matplotlib>=3.3->qiskit[visualization]) (24.1)\n",
            "Requirement already satisfied: pyparsing>=2.3.1 in /Library/Frameworks/Python.framework/Versions/3.13/lib/python3.13/site-packages (from matplotlib>=3.3->qiskit[visualization]) (3.2.0)\n",
            "Requirement already satisfied: six>=1.5 in /Users/vennelakothakonda/Library/Python/3.13/lib/python/site-packages (from python-dateutil>=2.8.0->qiskit[visualization]) (1.16.0)\n",
            "Requirement already satisfied: pandas>=1.2 in /Library/Frameworks/Python.framework/Versions/3.13/lib/python3.13/site-packages (from seaborn>=0.9.0->qiskit[visualization]) (2.2.3)\n",
            "Requirement already satisfied: pbr>=2.0.0 in /Library/Frameworks/Python.framework/Versions/3.13/lib/python3.13/site-packages (from stevedore>=3.0.0->qiskit[visualization]) (6.1.0)\n",
            "Requirement already satisfied: mpmath<1.4,>=1.1.0 in /Library/Frameworks/Python.framework/Versions/3.13/lib/python3.13/site-packages (from sympy>=1.3->qiskit[visualization]) (1.3.0)\n",
            "Requirement already satisfied: pytz>=2020.1 in /Library/Frameworks/Python.framework/Versions/3.13/lib/python3.13/site-packages (from pandas>=1.2->seaborn>=0.9.0->qiskit[visualization]) (2024.2)\n",
            "Requirement already satisfied: tzdata>=2022.7 in /Library/Frameworks/Python.framework/Versions/3.13/lib/python3.13/site-packages (from pandas>=1.2->seaborn>=0.9.0->qiskit[visualization]) (2024.2)\n",
            "Requirement already satisfied: qiskit.utils in /Library/Frameworks/Python.framework/Versions/3.13/lib/python3.13/site-packages (1.2.1)\n",
            "Requirement already satisfied: qiskit>=0.34.2 in /Library/Frameworks/Python.framework/Versions/3.13/lib/python3.13/site-packages (from qiskit.utils) (1.2.4)\n",
            "Requirement already satisfied: rustworkx>=0.15.0 in /Library/Frameworks/Python.framework/Versions/3.13/lib/python3.13/site-packages (from qiskit>=0.34.2->qiskit.utils) (0.15.1)\n",
            "Requirement already satisfied: numpy<3,>=1.17 in /Library/Frameworks/Python.framework/Versions/3.13/lib/python3.13/site-packages (from qiskit>=0.34.2->qiskit.utils) (2.1.3)\n",
            "Requirement already satisfied: scipy>=1.5 in /Library/Frameworks/Python.framework/Versions/3.13/lib/python3.13/site-packages (from qiskit>=0.34.2->qiskit.utils) (1.14.1)\n",
            "Requirement already satisfied: sympy>=1.3 in /Library/Frameworks/Python.framework/Versions/3.13/lib/python3.13/site-packages (from qiskit>=0.34.2->qiskit.utils) (1.13.3)\n",
            "Requirement already satisfied: dill>=0.3 in /Library/Frameworks/Python.framework/Versions/3.13/lib/python3.13/site-packages (from qiskit>=0.34.2->qiskit.utils) (0.3.9)\n",
            "Requirement already satisfied: python-dateutil>=2.8.0 in /Users/vennelakothakonda/Library/Python/3.13/lib/python/site-packages (from qiskit>=0.34.2->qiskit.utils) (2.9.0.post0)\n",
            "Requirement already satisfied: stevedore>=3.0.0 in /Library/Frameworks/Python.framework/Versions/3.13/lib/python3.13/site-packages (from qiskit>=0.34.2->qiskit.utils) (5.3.0)\n",
            "Requirement already satisfied: typing-extensions in /Library/Frameworks/Python.framework/Versions/3.13/lib/python3.13/site-packages (from qiskit>=0.34.2->qiskit.utils) (4.12.2)\n",
            "Requirement already satisfied: symengine<0.14,>=0.11 in /Library/Frameworks/Python.framework/Versions/3.13/lib/python3.13/site-packages (from qiskit>=0.34.2->qiskit.utils) (0.13.0)\n",
            "Requirement already satisfied: six>=1.5 in /Users/vennelakothakonda/Library/Python/3.13/lib/python/site-packages (from python-dateutil>=2.8.0->qiskit>=0.34.2->qiskit.utils) (1.16.0)\n",
            "Requirement already satisfied: pbr>=2.0.0 in /Library/Frameworks/Python.framework/Versions/3.13/lib/python3.13/site-packages (from stevedore>=3.0.0->qiskit>=0.34.2->qiskit.utils) (6.1.0)\n",
            "Requirement already satisfied: mpmath<1.4,>=1.1.0 in /Library/Frameworks/Python.framework/Versions/3.13/lib/python3.13/site-packages (from sympy>=1.3->qiskit>=0.34.2->qiskit.utils) (1.3.0)\n",
            "Requirement already satisfied: pyscf in /Library/Frameworks/Python.framework/Versions/3.13/lib/python3.13/site-packages (2.7.0)\n",
            "Requirement already satisfied: numpy!=1.16,!=1.17,>=1.13 in /Library/Frameworks/Python.framework/Versions/3.13/lib/python3.13/site-packages (from pyscf) (2.1.3)\n",
            "Requirement already satisfied: scipy>=1.6.0 in /Library/Frameworks/Python.framework/Versions/3.13/lib/python3.13/site-packages (from pyscf) (1.14.1)\n",
            "Requirement already satisfied: h5py>=2.7 in /Library/Frameworks/Python.framework/Versions/3.13/lib/python3.13/site-packages (from pyscf) (3.12.1)\n",
            "Requirement already satisfied: setuptools in /Library/Frameworks/Python.framework/Versions/3.13/lib/python3.13/site-packages (from pyscf) (75.3.0)\n"
          ]
        }
      ],
      "source": [
        "!pip install qiskit\n",
        "!pip install qiskit-nature\n",
        "!pip install 'qiskit[visualization]'\n",
        "!pip install qiskit.utils\n",
        "!pip install pyscf"
      ]
    },
    {
      "cell_type": "code",
      "execution_count": null,
      "metadata": {
        "id": "VVTeFk4h1Dgd"
      },
      "outputs": [],
      "source": []
    },
    {
      "cell_type": "code",
      "execution_count": 9,
      "metadata": {
        "colab": {
          "base_uri": "https://localhost:8080/",
          "height": 383
        },
        "id": "SnsDJC-1vWEP",
        "outputId": "a4691cd4-71e3-4995-81ca-49f21dbf9970"
      },
      "outputs": [
        {
          "ename": "ModuleNotFoundError",
          "evalue": "No module named 'qiskit_aer'",
          "output_type": "error",
          "traceback": [
            "\u001b[0;31m---------------------------------------------------------------------------\u001b[0m",
            "\u001b[0;31mModuleNotFoundError\u001b[0m                       Traceback (most recent call last)",
            "Cell \u001b[0;32mIn[9], line 3\u001b[0m\n\u001b[1;32m      1\u001b[0m \u001b[38;5;28;01mfrom\u001b[39;00m \u001b[38;5;21;01mqiskit\u001b[39;00m\u001b[38;5;21;01m.\u001b[39;00m\u001b[38;5;21;01mvisualization\u001b[39;00m \u001b[38;5;28;01mimport\u001b[39;00m array_to_latex, plot_bloch_vector, plot_bloch_multivector, plot_state_qsphere, plot_state_city\n\u001b[1;32m      2\u001b[0m \u001b[38;5;28;01mfrom\u001b[39;00m \u001b[38;5;21;01mqiskit\u001b[39;00m \u001b[38;5;28;01mimport\u001b[39;00m QuantumRegister, ClassicalRegister, QuantumCircuit, transpile\n\u001b[0;32m----> 3\u001b[0m \u001b[38;5;28;01mfrom\u001b[39;00m \u001b[38;5;21;01mqiskit_aer\u001b[39;00m \u001b[38;5;28;01mimport\u001b[39;00m AerSimulator, Aer\n\u001b[1;32m      5\u001b[0m \u001b[38;5;28;01mfrom\u001b[39;00m \u001b[38;5;21;01mqiskit_nature\u001b[39;00m\u001b[38;5;21;01m.\u001b[39;00m\u001b[38;5;21;01msecond_q\u001b[39;00m\u001b[38;5;21;01m.\u001b[39;00m\u001b[38;5;21;01mformats\u001b[39;00m\u001b[38;5;21;01m.\u001b[39;00m\u001b[38;5;21;01mmolecule_info\u001b[39;00m \u001b[38;5;28;01mimport\u001b[39;00m MoleculeInfo\n\u001b[1;32m      6\u001b[0m \u001b[38;5;28;01mfrom\u001b[39;00m \u001b[38;5;21;01mqiskit_nature\u001b[39;00m\u001b[38;5;21;01m.\u001b[39;00m\u001b[38;5;21;01munits\u001b[39;00m \u001b[38;5;28;01mimport\u001b[39;00m DistanceUnit\n",
            "\u001b[0;31mModuleNotFoundError\u001b[0m: No module named 'qiskit_aer'"
          ]
        }
      ],
      "source": [
        "from qiskit.visualization import array_to_latex, plot_bloch_vector, plot_bloch_multivector, plot_state_qsphere, plot_state_city\n",
        "from qiskit import QuantumRegister, ClassicalRegister, QuantumCircuit, transpile\n",
        "from qiskit_aer import AerSimulator, Aer\n",
        "\n",
        "from qiskit_nature.second_q.formats.molecule_info import MoleculeInfo\n",
        "from qiskit_nature.units import DistanceUnit\n",
        "from qiskit_nature.second_q.mappers import ParityMapper, JordanWignerMapper, BravyiKitaevMapper\n",
        "from qiskit_nature.second_q.properties import ParticleNumber\n",
        "from qiskit_nature.second_q.transformers import ActiveSpaceTransformer, FreezeCoreTransformer\n",
        "from qiskit_nature import settings\n",
        "from qiskit.primitives import Sampler, StatevectorSampler\n",
        "from qiskit_algorithms import HamiltonianPhaseEstimation, PhaseEstimation\n",
        "from qiskit.primitives import Estimator\n",
        "from qiskit_algorithms.optimizers import SLSQP, SPSA, QNSPSA\n",
        "from qiskit_nature.second_q.circuit.library import UCCSD, HartreeFock\n",
        "from qiskit_algorithms.minimum_eigensolvers import NumPyMinimumEigensolver, VQE\n",
        "from qiskit_nature.second_q.algorithms.ground_state_solvers import GroundStateEigensolver\n",
        "from qiskit.circuit.library import TwoLocal\n",
        "from functools import partial as apply_variation\n",
        "from qiskit.circuit.library import Initialize\n",
        "from qiskit.quantum_info import SparsePauliOp\n",
        "from qiskit_nature.second_q.mappers import ParityMapper, JordanWignerMapper, BravyiKitaevMapper\n",
        "from qiskit_nature.second_q.properties import ParticleNumber\n",
        "from qiskit_nature.second_q.transformers import ActiveSpaceTransformer, FreezeCoreTransformer\n",
        "from qiskit_nature.second_q.operators import FermionicOp\n",
        "from qiskit_nature.second_q.operators import ElectronicIntegrals\n",
        "from pyscf import gto, scf\n"
      ]
    },
    {
      "cell_type": "code",
      "execution_count": 10,
      "metadata": {
        "colab": {
          "base_uri": "https://localhost:8080/"
        },
        "id": "zVQPsvFsv6yQ",
        "outputId": "a37acd07-2ebb-4ad5-e79c-e55da6856e17"
      },
      "outputs": [
        {
          "name": "stderr",
          "output_type": "stream",
          "text": [
            "Matplotlib is building the font cache; this may take a moment.\n"
          ]
        },
        {
          "ename": "FileNotFoundError",
          "evalue": "[Errno 2] No such file or directory: '/content/datasets'",
          "output_type": "error",
          "traceback": [
            "\u001b[0;31m---------------------------------------------------------------------------\u001b[0m",
            "\u001b[0;31mFileNotFoundError\u001b[0m                         Traceback (most recent call last)",
            "Cell \u001b[0;32mIn[10], line 54\u001b[0m\n\u001b[1;32m     51\u001b[0m dataset_directory \u001b[38;5;241m=\u001b[39m \u001b[38;5;124m'\u001b[39m\u001b[38;5;124m/content/datasets\u001b[39m\u001b[38;5;124m'\u001b[39m\n\u001b[1;32m     53\u001b[0m \u001b[38;5;66;03m# Load data\u001b[39;00m\n\u001b[0;32m---> 54\u001b[0m can_messages \u001b[38;5;241m=\u001b[39m \u001b[43mload_can_messages\u001b[49m\u001b[43m(\u001b[49m\u001b[43mdataset_directory\u001b[49m\u001b[43m)\u001b[49m\n\u001b[1;32m     55\u001b[0m \u001b[38;5;28mprint\u001b[39m(\u001b[38;5;124m\"\u001b[39m\u001b[38;5;124mLoaded CAN message sets:\u001b[39m\u001b[38;5;124m\"\u001b[39m, \u001b[38;5;28mlen\u001b[39m(can_messages))\n\u001b[1;32m     57\u001b[0m \u001b[38;5;66;03m# Extract features (intervals and counts) and prepare data\u001b[39;00m\n",
            "Cell \u001b[0;32mIn[10], line 11\u001b[0m, in \u001b[0;36mload_can_messages\u001b[0;34m(directory)\u001b[0m\n\u001b[1;32m      9\u001b[0m \u001b[38;5;28;01mdef\u001b[39;00m \u001b[38;5;21mload_can_messages\u001b[39m(directory):\n\u001b[1;32m     10\u001b[0m     can_messages \u001b[38;5;241m=\u001b[39m []\n\u001b[0;32m---> 11\u001b[0m     files \u001b[38;5;241m=\u001b[39m \u001b[38;5;28msorted\u001b[39m([f \u001b[38;5;28;01mfor\u001b[39;00m f \u001b[38;5;129;01min\u001b[39;00m \u001b[43mos\u001b[49m\u001b[38;5;241;43m.\u001b[39;49m\u001b[43mlistdir\u001b[49m\u001b[43m(\u001b[49m\u001b[43mdirectory\u001b[49m\u001b[43m)\u001b[49m \u001b[38;5;28;01mif\u001b[39;00m f\u001b[38;5;241m.\u001b[39mendswith(\u001b[38;5;124m'\u001b[39m\u001b[38;5;124m.bin\u001b[39m\u001b[38;5;124m'\u001b[39m)])\n\u001b[1;32m     12\u001b[0m     \u001b[38;5;28;01mfor\u001b[39;00m file_name \u001b[38;5;129;01min\u001b[39;00m files[:\u001b[38;5;241m3\u001b[39m]:  \u001b[38;5;66;03m# Load a limited number of files for memory efficiency\u001b[39;00m\n\u001b[1;32m     13\u001b[0m         file_path \u001b[38;5;241m=\u001b[39m os\u001b[38;5;241m.\u001b[39mpath\u001b[38;5;241m.\u001b[39mjoin(directory, file_name)\n",
            "\u001b[0;31mFileNotFoundError\u001b[0m: [Errno 2] No such file or directory: '/content/datasets'"
          ]
        }
      ],
      "source": [
        "import os\n",
        "import numpy as np\n",
        "from sklearn.preprocessing import StandardScaler\n",
        "from qiskit import QuantumCircuit\n",
        "import matplotlib.pyplot as plt\n",
        "from qiskit.visualization import plot_histogram\n",
        "\n",
        "# 1. Load and extract features from CAN messages\n",
        "def load_can_messages(directory):\n",
        "    can_messages = []\n",
        "    files = sorted([f for f in os.listdir(directory) if f.endswith('.bin')])\n",
        "    for file_name in files[:3]:  # Load a limited number of files for memory efficiency\n",
        "        file_path = os.path.join(directory, file_name)\n",
        "        with open(file_path, 'rb') as f:\n",
        "            messages = np.frombuffer(f.read(), dtype=np.uint8)\n",
        "            can_messages.append(messages)\n",
        "    return can_messages\n",
        "\n",
        "def extract_temporal_features(messages):\n",
        "    intervals = []\n",
        "    message_counts = []\n",
        "    for msg_set in messages:\n",
        "        timestamps = msg_set[::2]  # Assuming every 2 bytes represent a timestamp or interval\n",
        "        diffs = np.diff(timestamps)\n",
        "        intervals.append(diffs)\n",
        "        message_counts.append(len(msg_set))\n",
        "    return intervals, message_counts\n",
        "\n",
        "# 2. Normalize and prepare data\n",
        "def prepare_data(intervals, message_counts):\n",
        "    features = np.array([np.mean(interval) for interval in intervals if len(interval) > 0])  # Average interval time\n",
        "    counts = np.array(message_counts)\n",
        "    data = np.vstack((features, counts)).T\n",
        "    scaler = StandardScaler()\n",
        "    data = scaler.fit_transform(data)\n",
        "    return data\n",
        "\n",
        "# 3. Build a simple Quantum Circuit (QNN-like structure)\n",
        "def create_quantum_circuit(data):\n",
        "    num_features = data.shape[1]\n",
        "    quantum_circuits = []\n",
        "    for i in range(data.shape[0]):\n",
        "        qc = QuantumCircuit(num_features)\n",
        "        for j in range(num_features):\n",
        "            qc.ry(data[i, j], j)  # Encode each feature as a rotation angle\n",
        "        quantum_circuits.append(qc)\n",
        "    return quantum_circuits\n",
        "\n",
        "if __name__ == \"__main__\":\n",
        "    # Dataset directory for Google Colab\n",
        "    dataset_directory = '/content/datasets'\n",
        "\n",
        "    # Load data\n",
        "    can_messages = load_can_messages(dataset_directory)\n",
        "    print(\"Loaded CAN message sets:\", len(can_messages))\n",
        "\n",
        "    # Extract features (intervals and counts) and prepare data\n",
        "    intervals, message_counts = extract_temporal_features(can_messages)\n",
        "    data = prepare_data(intervals, message_counts)\n",
        "\n",
        "    # Build quantum circuits (without machine learning component)\n",
        "    quantum_circuits = create_quantum_circuit(data)\n",
        "\n",
        "    print(\"Created quantum circuits for the dataset.\")\n",
        "\n",
        "\n",
        "    # Import necessary libraries from Qiskit\n",
        "from qiskit import QuantumCircuit\n",
        "from qiskit_aer import Aer, AerError\n",
        "from qiskit.visualization import plot_histogram\n",
        "\n",
        "# Function to create a quantum circuit for a given feature vector\n",
        "def create_quantum_circuit(features):\n",
        "    n = len(features)  # Number of features\n",
        "    circuit = QuantumCircuit(n)  # Create a quantum circuit with 'n' qubits\n",
        "\n",
        "    # Encode features into the quantum circuit (example with RY gates)\n",
        "    for i in range(n):\n",
        "        circuit.ry(features[i], i)  # Rotate around Y-axis with feature value\n",
        "\n",
        "    # Add measurement to all qubits\n",
        "    circuit.measure_all()\n",
        "    return circuit\n",
        "\n",
        "# Function to run the quantum circuit on a classical simulator\n",
        "def run_quantum_circuit(circuit):\n",
        "    backend = Aer.get_backend('qasm_simulator')  # Use the QASM simulator\n",
        "    # Run the quantum circuit on the simulator\n",
        "    job = backend.run(circuit, shots=1000)  # Run the circuit\n",
        "    result = job.result()  # Get the result\n",
        "    counts = result.get_counts(circuit)  # Get counts of results\n",
        "    return counts\n",
        "\n",
        "# Example usage\n",
        "feature_data = [[0.5, 0.1, 0.3], [0.9, 0.8, 0.1]]\n",
        "created_circuits = [create_quantum_circuit(features) for features in feature_data]\n",
        "\n",
        "# Run each circuit and collect counts\n",
        "all_counts = [run_quantum_circuit(circuit) for circuit in created_circuits]\n",
        "# Convert binary predictions to labels (assuming 2 outcomes: 0 and 1)\n",
        "label_map = {\n",
        "        '0': 'normal',\n",
        "        '1': 'attack',}\n",
        "predicted_labels = [max(counts, key=counts.get) for counts in all_counts]\n",
        "predicted_labels = [label_map.get(pred, 'normal') for pred in predicted_labels]\n",
        "\n",
        "print(\"Predicted labels:\", predicted_labels)\n",
        "\n"
      ]
    },
    {
      "cell_type": "code",
      "execution_count": 11,
      "metadata": {
        "colab": {
          "base_uri": "https://localhost:8080/",
          "height": 1000
        },
        "id": "JRA1sSuj1p3b",
        "outputId": "bd0b4596-a683-4768-d90a-5032ebb292c6"
      },
      "outputs": [
        {
          "ename": "NameError",
          "evalue": "name 'all_counts' is not defined",
          "output_type": "error",
          "traceback": [
            "\u001b[0;31m---------------------------------------------------------------------------\u001b[0m",
            "\u001b[0;31mNameError\u001b[0m                                 Traceback (most recent call last)",
            "Cell \u001b[0;32mIn[11], line 2\u001b[0m\n\u001b[1;32m      1\u001b[0m \u001b[38;5;66;03m# Display histograms and predicted labels\u001b[39;00m\n\u001b[0;32m----> 2\u001b[0m \u001b[38;5;28;01mfor\u001b[39;00m i, counts \u001b[38;5;129;01min\u001b[39;00m \u001b[38;5;28menumerate\u001b[39m(\u001b[43mall_counts\u001b[49m):\n\u001b[1;32m      3\u001b[0m     \u001b[38;5;28mprint\u001b[39m(\u001b[38;5;124mf\u001b[39m\u001b[38;5;124m\"\u001b[39m\u001b[38;5;124mCounts for circuit \u001b[39m\u001b[38;5;132;01m{\u001b[39;00mi\u001b[38;5;241m+\u001b[39m\u001b[38;5;241m1\u001b[39m\u001b[38;5;132;01m}\u001b[39;00m\u001b[38;5;124m: \u001b[39m\u001b[38;5;132;01m{\u001b[39;00mcounts\u001b[38;5;132;01m}\u001b[39;00m\u001b[38;5;124m\"\u001b[39m)  \u001b[38;5;66;03m# Print counts for debugging\u001b[39;00m\n\u001b[1;32m      5\u001b[0m     \u001b[38;5;66;03m# Create and display the histogram\u001b[39;00m\n",
            "\u001b[0;31mNameError\u001b[0m: name 'all_counts' is not defined"
          ]
        }
      ],
      "source": [
        "    # Display histograms and predicted labels\n",
        "    for i, counts in enumerate(all_counts):\n",
        "        print(f\"Counts for circuit {i+1}: {counts}\")  # Print counts for debugging\n",
        "\n",
        "        # Create and display the histogram\n",
        "        fig, ax = plt.subplots(2, 1, figsize=(8, 10))  # Two rows: one for histogram, one for predicted labels\n",
        "        plot_histogram(counts, ax=ax[0])  # Plot histogram on the first axes\n",
        "        ax[0].set_title(f'Counts for circuit {i + 1}')  # Title for histogram\n",
        "\n",
        "        # Plot predicted labels\n",
        "        ax[1].bar(['normal', 'attack'], [predicted_labels.count('normal'), predicted_labels.count('attack')], color=['blue', 'red'])\n",
        "        ax[1].set_title('Predicted Labels Count')\n",
        "        ax[1].set_ylabel('Count')\n",
        "        ax[1].set_xlabel('Predicted Label')\n",
        "\n",
        "        plt.tight_layout()  # Adjust layout for better spacing\n",
        "        plt.show()  # Show both plots"
      ]
    }
  ],
  "metadata": {
    "colab": {
      "provenance": []
    },
    "kernelspec": {
      "display_name": "Python 3",
      "name": "python3"
    },
    "language_info": {
      "codemirror_mode": {
        "name": "ipython",
        "version": 3
      },
      "file_extension": ".py",
      "mimetype": "text/x-python",
      "name": "python",
      "nbconvert_exporter": "python",
      "pygments_lexer": "ipython3",
      "version": "3.13.0"
    }
  },
  "nbformat": 4,
  "nbformat_minor": 0
}
